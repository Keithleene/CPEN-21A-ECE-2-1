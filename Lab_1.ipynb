{
  "nbformat": 4,
  "nbformat_minor": 0,
  "metadata": {
    "colab": {
      "name": "Lab 1.ipynb",
      "provenance": [],
      "authorship_tag": "ABX9TyOQ3ZbK4UC5qFcGeurorglt",
      "include_colab_link": true
    },
    "kernelspec": {
      "name": "python3",
      "display_name": "Python 3"
    },
    "language_info": {
      "name": "python"
    }
  },
  "cells": [
    {
      "cell_type": "markdown",
      "metadata": {
        "id": "view-in-github",
        "colab_type": "text"
      },
      "source": [
        "<a href=\"https://colab.research.google.com/github/Keithleene/CPEN-21A-ECE-2-1/blob/main/Lab_1.ipynb\" target=\"_parent\"><img src=\"https://colab.research.google.com/assets/colab-badge.svg\" alt=\"Open In Colab\"/></a>"
      ]
    },
    {
      "cell_type": "markdown",
      "metadata": {
        "id": "UvPLSQLaugEc"
      },
      "source": [
        "#Laboratory 1"
      ]
    },
    {
      "cell_type": "code",
      "metadata": {
        "colab": {
          "base_uri": "https://localhost:8080/"
        },
        "id": "JxH48Cw_wfwf",
        "outputId": "e6931fb5-9259-4982-cec2-d51203bf0103"
      },
      "source": [
        "W = \"Welcome to Python Programming\"\n",
        "print(W)"
      ],
      "execution_count": null,
      "outputs": [
        {
          "output_type": "stream",
          "name": "stdout",
          "text": [
            "Welcome to Python Programming\n"
          ]
        }
      ]
    },
    {
      "cell_type": "code",
      "metadata": {
        "colab": {
          "base_uri": "https://localhost:8080/"
        },
        "id": "O4TeiuF1urjZ",
        "outputId": "cd91eadf-ca01-4909-9324-974e4a4556b5"
      },
      "source": [
        "W = \"Welcome to Python Programming\"\n",
        "print(W)"
      ],
      "execution_count": null,
      "outputs": [
        {
          "output_type": "stream",
          "name": "stdout",
          "text": [
            "Welcome to Python Programming\n"
          ]
        }
      ]
    },
    {
      "cell_type": "code",
      "metadata": {
        "colab": {
          "base_uri": "https://localhost:8080/"
        },
        "id": "njJzY9h0vfk7",
        "outputId": "f039b3a6-f669-46e6-9322-e9803ee632b7"
      },
      "source": [
        "P = \"Name: Keithleene G. Trinidad\"\n",
        "B = \"Address: 514 Arvisu St. Biwas Tanza Cavite\"\n",
        "G = \"Age: 19\"\n",
        "print(P)\n",
        "print(B)\n",
        "print(G)"
      ],
      "execution_count": null,
      "outputs": [
        {
          "output_type": "stream",
          "name": "stdout",
          "text": [
            "Name: Keithleene G. Trinidad\n",
            "Address: 514 Arvisu St. Biwas Tanza Cavite\n",
            "Age: 19\n"
          ]
        }
      ]
    }
  ]
}