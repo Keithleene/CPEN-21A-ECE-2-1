{
  "nbformat": 4,
  "nbformat_minor": 0,
  "metadata": {
    "colab": {
      "name": "Lab 1.ipynb",
      "provenance": [],
      "authorship_tag": "ABX9TyPJe8fQZWdWyYZChuKXQk6i",
      "include_colab_link": true
    },
    "kernelspec": {
      "name": "python3",
      "display_name": "Python 3"
    },
    "language_info": {
      "name": "python"
    }
  },
  "cells": [
    {
      "cell_type": "markdown",
      "metadata": {
        "id": "view-in-github",
        "colab_type": "text"
      },
      "source": [
        "<a href=\"https://colab.research.google.com/github/Keithleene/CPEN-21A-ECE-2-1/blob/main/Lab_1.ipynb\" target=\"_parent\"><img src=\"https://colab.research.google.com/assets/colab-badge.svg\" alt=\"Open In Colab\"/></a>"
      ]
    },
    {
      "cell_type": "markdown",
      "metadata": {
        "id": "gNO6_w-Uw0jz"
      },
      "source": [
        "#Laboratory 1"
      ]
    },
    {
      "cell_type": "code",
      "metadata": {
        "colab": {
          "base_uri": "https://localhost:8080/"
        },
        "id": "7DPPSOXGw3c6",
        "outputId": "9581046c-5b00-4532-c694-c5dd0aa4b69d"
      },
      "source": [
        "W = \"Welcome to Python Programming\"\n",
        "print(W)"
      ],
      "execution_count": 1,
      "outputs": [
        {
          "output_type": "stream",
          "name": "stdout",
          "text": [
            "Welcome to Python Programming\n"
          ]
        }
      ]
    },
    {
      "cell_type": "code",
      "metadata": {
        "colab": {
          "base_uri": "https://localhost:8080/"
        },
        "id": "Tet9SUVjxD9r",
        "outputId": "ddc66492-e4a5-41d4-b248-c84cc7fe709a"
      },
      "source": [
        "P = \"Name: Keithleene G. Trinidad\"\n",
        "B = \"Address: 514 Arvisu St. Biwas, Tanza, Cavite\"\n",
        "G = \"Age: 19 years old\"\n",
        "print(P)\n",
        "print(B)\n",
        "print(G)"
      ],
      "execution_count": 2,
      "outputs": [
        {
          "output_type": "stream",
          "name": "stdout",
          "text": [
            "Name: Keithleene G. Trinidad\n",
            "Address: 514 Arvisu St. Biwas, Tanza, Cavite\n",
            "Age: 19 years old\n"
          ]
        }
      ]
    }
  ]
}