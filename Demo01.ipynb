{
  "nbformat": 4,
  "nbformat_minor": 0,
  "metadata": {
    "colab": {
      "name": "Demo01.ipynb",
      "provenance": [],
      "authorship_tag": "ABX9TyMNgoSDlHNBYNXa7XLiAjux",
      "include_colab_link": true
    },
    "kernelspec": {
      "name": "python3",
      "display_name": "Python 3"
    },
    "language_info": {
      "name": "python"
    }
  },
  "cells": [
    {
      "cell_type": "markdown",
      "metadata": {
        "id": "view-in-github",
        "colab_type": "text"
      },
      "source": [
        "<a href=\"https://colab.research.google.com/github/Keithleene/CPEN-21A-ECE-2-1/blob/main/Demo01.ipynb\" target=\"_parent\"><img src=\"https://colab.research.google.com/assets/colab-badge.svg\" alt=\"Open In Colab\"/></a>"
      ]
    },
    {
      "cell_type": "markdown",
      "metadata": {
        "id": "7pglNqeC6Cqa"
      },
      "source": [
        "# Intro to Python Programmming"
      ]
    },
    {
      "cell_type": "code",
      "metadata": {
        "colab": {
          "base_uri": "https://localhost:8080/"
        },
        "id": "H8fHBhwU4PyX",
        "outputId": "6fe925da-4c7d-4d99-fbb6-9043a0f2b081"
      },
      "source": [
        "#Python Indention\n",
        "if 5>2:\n",
        "   print(\"Five is greater than two\")"
      ],
      "execution_count": 8,
      "outputs": [
        {
          "output_type": "stream",
          "name": "stdout",
          "text": [
            "Five is greater than two\n"
          ]
        }
      ]
    },
    {
      "cell_type": "code",
      "metadata": {
        "id": "p6V_yPWz3RGb"
      },
      "source": [
        "##Python Variable: "
      ],
      "execution_count": 9,
      "outputs": []
    },
    {
      "cell_type": "code",
      "metadata": {
        "colab": {
          "base_uri": "https://localhost:8080/"
        },
        "id": "2I46yPAn4m9k",
        "outputId": "7e1d884b-4ed2-424b-9fa5-c49ffe76cf22"
      },
      "source": [
        "x=1\n",
        "a, b=0, 1\n",
        "a,b,c= \"zero\",\"one\",\"two\"\n",
        "print(x)\n",
        "print(a)\n",
        "print(b)\n",
        "print(c)"
      ],
      "execution_count": 10,
      "outputs": [
        {
          "output_type": "stream",
          "name": "stdout",
          "text": [
            "1\n",
            "zero\n",
            "one\n",
            "two\n"
          ]
        }
      ]
    },
    {
      "cell_type": "code",
      "metadata": {
        "colab": {
          "base_uri": "https://localhost:8080/"
        },
        "id": "qezCL1Kq4xmP",
        "outputId": "a69a882d-f85c-4749-c8e4-91ace30506b6"
      },
      "source": [
        "d = \"Kilyn\" #This is a string\n",
        "D = \"keithy\"\n",
        "print(d)\n",
        "e=\"kitty\"\n",
        "print(e)\n",
        "print(D)"
      ],
      "execution_count": 11,
      "outputs": [
        {
          "output_type": "stream",
          "name": "stdout",
          "text": [
            "Kilyn\n",
            "kitty\n",
            "keithy\n"
          ]
        }
      ]
    },
    {
      "cell_type": "code",
      "metadata": {
        "colab": {
          "base_uri": "https://localhost:8080/"
        },
        "id": "nr2gmHbW5Itu",
        "outputId": "632daed0-1800-4912-e214-45861ea243cf"
      },
      "source": [
        "print(type(d)) #This is a type function\n",
        "print(type(x))"
      ],
      "execution_count": 12,
      "outputs": [
        {
          "output_type": "stream",
          "name": "stdout",
          "text": [
            "<class 'str'>\n",
            "<class 'int'>\n"
          ]
        }
      ]
    },
    {
      "cell_type": "markdown",
      "metadata": {
        "id": "lcNaJgkw5Lqa"
      },
      "source": [
        "# Casting"
      ]
    },
    {
      "cell_type": "code",
      "metadata": {
        "colab": {
          "base_uri": "https://localhost:8080/"
        },
        "id": "4kkdBBBK5QLS",
        "outputId": "06c75e9c-4262-4f4a-a0ab-757b37e9486c"
      },
      "source": [
        "f = float(4)\n",
        "print(f)\n",
        "g = float(5)\n",
        "g = int(5)"
      ],
      "execution_count": 13,
      "outputs": [
        {
          "output_type": "stream",
          "name": "stdout",
          "text": [
            "4.0\n"
          ]
        }
      ]
    },
    {
      "cell_type": "markdown",
      "metadata": {
        "id": "Lfx_gl9x5Tpl"
      },
      "source": [
        "#Multiple Variables with One Value"
      ]
    },
    {
      "cell_type": "code",
      "metadata": {
        "colab": {
          "base_uri": "https://localhost:8080/"
        },
        "id": "aRKGZKUh5Ulj",
        "outputId": "9885e9fc-883b-478c-a422-a5c3345f7bea"
      },
      "source": [
        "x=y=z= \"four\"\n",
        "print(x)\n",
        "print(y)\n",
        "print(z)"
      ],
      "execution_count": 14,
      "outputs": [
        {
          "output_type": "stream",
          "name": "stdout",
          "text": [
            "four\n",
            "four\n",
            "four\n"
          ]
        }
      ]
    },
    {
      "cell_type": "code",
      "metadata": {
        "colab": {
          "base_uri": "https://localhost:8080/"
        },
        "id": "gsLMLXvx5eOg",
        "outputId": "175f3dd3-df29-47e4-e74b-8bad416abf44"
      },
      "source": [
        "x = \"enjoying\"\n",
        "print(\"Python Programming is\" \" \" + x)"
      ],
      "execution_count": 15,
      "outputs": [
        {
          "output_type": "stream",
          "name": "stdout",
          "text": [
            "Python Programming is enjoying\n"
          ]
        }
      ]
    },
    {
      "cell_type": "markdown",
      "metadata": {
        "id": "6LPFsgso5hgK"
      },
      "source": [
        "#Operations in Python"
      ]
    },
    {
      "cell_type": "code",
      "metadata": {
        "colab": {
          "base_uri": "https://localhost:8080/"
        },
        "id": "p7ZIwkGo5il9",
        "outputId": "e31c8fcd-44e9-4308-b5e0-1cfa6e7fa12f"
      },
      "source": [
        "x = 5\n",
        "y = 7\n",
        "x += y #This is the same as x = x + y\n",
        "print(x+y)\n",
        "print(x*y)\n",
        "print(x)"
      ],
      "execution_count": 16,
      "outputs": [
        {
          "output_type": "stream",
          "name": "stdout",
          "text": [
            "19\n",
            "84\n",
            "12\n"
          ]
        }
      ]
    },
    {
      "cell_type": "code",
      "metadata": {
        "colab": {
          "base_uri": "https://localhost:8080/"
        },
        "id": "tRNUDsZr5whP",
        "outputId": "fe5f7d4b-5fcf-4b8a-ece4-031ca33760a1"
      },
      "source": [
        "x = 5\n",
        "y = 7\n",
        "\n",
        "not(x>y or y==x)"
      ],
      "execution_count": 17,
      "outputs": [
        {
          "output_type": "execute_result",
          "data": {
            "text/plain": [
              "True"
            ]
          },
          "metadata": {},
          "execution_count": 17
        }
      ]
    },
    {
      "cell_type": "code",
      "metadata": {
        "colab": {
          "base_uri": "https://localhost:8080/"
        },
        "id": "lTf2nvn-5y8I",
        "outputId": "dde45b1d-d8af-408e-ba86-a67c6a26cf8c"
      },
      "source": [
        "x = 5\n",
        "y = 7\n",
        "\n",
        "not(x>y or y==x)"
      ],
      "execution_count": 18,
      "outputs": [
        {
          "output_type": "execute_result",
          "data": {
            "text/plain": [
              "True"
            ]
          },
          "metadata": {},
          "execution_count": 18
        }
      ]
    },
    {
      "cell_type": "code",
      "metadata": {
        "colab": {
          "base_uri": "https://localhost:8080/"
        },
        "id": "NxJdkYAM52IJ",
        "outputId": "86d1b6d2-01cb-487c-b747-b33ed45f5e7b"
      },
      "source": [
        "x is y"
      ],
      "execution_count": 19,
      "outputs": [
        {
          "output_type": "execute_result",
          "data": {
            "text/plain": [
              "False"
            ]
          },
          "metadata": {},
          "execution_count": 19
        }
      ]
    },
    {
      "cell_type": "code",
      "metadata": {
        "colab": {
          "base_uri": "https://localhost:8080/"
        },
        "id": "9Vha7gp954Ua",
        "outputId": "d2f186f7-9427-4616-ac06-19a491be2738"
      },
      "source": [
        "x is not y"
      ],
      "execution_count": 20,
      "outputs": [
        {
          "output_type": "execute_result",
          "data": {
            "text/plain": [
              "True"
            ]
          },
          "metadata": {},
          "execution_count": 20
        }
      ]
    }
  ]
}