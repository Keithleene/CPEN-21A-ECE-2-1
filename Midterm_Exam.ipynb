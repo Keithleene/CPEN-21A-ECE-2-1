{
  "nbformat": 4,
  "nbformat_minor": 0,
  "metadata": {
    "colab": {
      "name": "Midterm Exam.ipynb",
      "provenance": [],
      "authorship_tag": "ABX9TyMTADT+Tz1tbaY/9WM5xQwu",
      "include_colab_link": true
    },
    "kernelspec": {
      "name": "python3",
      "display_name": "Python 3"
    },
    "language_info": {
      "name": "python"
    }
  },
  "cells": [
    {
      "cell_type": "markdown",
      "metadata": {
        "id": "view-in-github",
        "colab_type": "text"
      },
      "source": [
        "<a href=\"https://colab.research.google.com/github/Keithleene/CPEN-21A-ECE-2-1/blob/main/Midterm_Exam.ipynb\" target=\"_parent\"><img src=\"https://colab.research.google.com/assets/colab-badge.svg\" alt=\"Open In Colab\"/></a>"
      ]
    },
    {
      "cell_type": "markdown",
      "metadata": {
        "id": "p52cGT1OvdlX"
      },
      "source": [
        "#Midterm Exam"
      ]
    },
    {
      "cell_type": "markdown",
      "metadata": {
        "id": "YmKju7KL3slk"
      },
      "source": [
        "#PROBLEM STATEMENT 1"
      ]
    },
    {
      "cell_type": "code",
      "metadata": {
        "colab": {
          "base_uri": "https://localhost:8080/"
        },
        "id": "sT3qnytSvX6z",
        "outputId": "e053fae3-4753-4f0c-d2af-3e6120c8010e"
      },
      "source": [
        "a = \"Name: Keithleene G. Trinidad\"\n",
        "b = \"Student Number: 202013303\"\n",
        "c = \"Age: 19 years old\"\n",
        "d = \"Birthday: December 03, 2001\"\n",
        "e = \"Address: 514 Arvisu St. Biwas, Tanza, Cavite\"\n",
        "f = \"Course: BSECE\"\n",
        "g = \"Last Sem GWA:1.57\"\n",
        "print(a)\n",
        "print(b)\n",
        "print(c)\n",
        "print(d)\n",
        "print(e)\n",
        "print(f)\n",
        "print(g)"
      ],
      "execution_count": 1,
      "outputs": [
        {
          "output_type": "stream",
          "name": "stdout",
          "text": [
            "Name: Keithleene G. Trinidad\n",
            "Student Number: 202013303\n",
            "Age: 19 years old\n",
            "Birthday: December 03, 2001\n",
            "Address: 514 Arvisu St. Biwas, Tanza, Cavite\n",
            "Course: BSECE\n",
            "Last Sem GWA:1.57\n"
          ]
        }
      ]
    },
    {
      "cell_type": "markdown",
      "metadata": {
        "id": "I37NrhYP32Uq"
      },
      "source": [
        "#PROBLEM STATEMENT 2"
      ]
    },
    {
      "cell_type": "markdown",
      "metadata": {
        "id": "c4zSCfn8CmKt"
      },
      "source": [
        "Letter a"
      ]
    },
    {
      "cell_type": "code",
      "metadata": {
        "colab": {
          "base_uri": "https://localhost:8080/"
        },
        "id": "dP8ezAUq30Mi",
        "outputId": "262f837e-adc5-43f2-dc88-1980a14e83fb"
      },
      "source": [
        "n=4\n",
        "z=(2<n)\n",
        "y=(n<6)\n",
        "print(z and y )"
      ],
      "execution_count": 46,
      "outputs": [
        {
          "output_type": "stream",
          "name": "stdout",
          "text": [
            "True\n"
          ]
        }
      ]
    },
    {
      "cell_type": "markdown",
      "metadata": {
        "id": "T4y8PXtcCwFO"
      },
      "source": [
        "Letter b"
      ]
    },
    {
      "cell_type": "code",
      "metadata": {
        "colab": {
          "base_uri": "https://localhost:8080/"
        },
        "id": "DpW4UHnBCymS",
        "outputId": "2e1be022-8996-4a4e-a74a-b6196749054c"
      },
      "source": [
        "w=(2<n)\n",
        "x=(n==6)\n",
        "print(w or x)"
      ],
      "execution_count": 57,
      "outputs": [
        {
          "output_type": "stream",
          "name": "stdout",
          "text": [
            "True\n"
          ]
        }
      ]
    },
    {
      "cell_type": "markdown",
      "metadata": {
        "id": "d7YITY7WDk1K"
      },
      "source": [
        "Letter c"
      ]
    },
    {
      "cell_type": "code",
      "metadata": {
        "colab": {
          "base_uri": "https://localhost:8080/"
        },
        "id": "dz12qvvSDmx8",
        "outputId": "907c3c6c-f876-4b7a-cb6b-83f57ee3b3af"
      },
      "source": [
        "u=(2<n)\n",
        "v=(n==6)\n",
        "print (not(u or v))"
      ],
      "execution_count": 59,
      "outputs": [
        {
          "output_type": "stream",
          "name": "stdout",
          "text": [
            "False\n"
          ]
        }
      ]
    },
    {
      "cell_type": "markdown",
      "metadata": {
        "id": "ocNxYsFfEQl0"
      },
      "source": [
        "Letter d"
      ]
    },
    {
      "cell_type": "code",
      "metadata": {
        "colab": {
          "base_uri": "https://localhost:8080/"
        },
        "id": "a8lvd-AkEUFx",
        "outputId": "e81ed1aa-1eb1-46db-9dcd-e9d89b4b0c67"
      },
      "source": [
        "s=(n<6)\n",
        "print(not(s))"
      ],
      "execution_count": 60,
      "outputs": [
        {
          "output_type": "stream",
          "name": "stdout",
          "text": [
            "False\n"
          ]
        }
      ]
    },
    {
      "cell_type": "markdown",
      "metadata": {
        "id": "XAzPEh2NEiBH"
      },
      "source": [
        "Letter e"
      ]
    },
    {
      "cell_type": "code",
      "metadata": {
        "colab": {
          "base_uri": "https://localhost:8080/"
        },
        "id": "Aq3QW6O9ElY6",
        "outputId": "de1fba71-2104-4d6a-dc53-a4b4129dddb6"
      },
      "source": [
        "answ=\"Y\"\n",
        "q=(answ==\"Y\")\n",
        "r=(answ==\"y\")\n",
        "print(q or r)"
      ],
      "execution_count": 62,
      "outputs": [
        {
          "output_type": "stream",
          "name": "stdout",
          "text": [
            "True\n"
          ]
        }
      ]
    },
    {
      "cell_type": "markdown",
      "metadata": {
        "id": "1WhJH4hLFAcu"
      },
      "source": [
        "Letter f"
      ]
    },
    {
      "cell_type": "code",
      "metadata": {
        "colab": {
          "base_uri": "https://localhost:8080/"
        },
        "id": "MxVIJWD5FC7B",
        "outputId": "2fc2968d-194a-4f79-c981-010bb46a6f64"
      },
      "source": [
        "o=(answ==\"Y\")\n",
        "p=(answ==\"y\")\n",
        "print(o and p)"
      ],
      "execution_count": 65,
      "outputs": [
        {
          "output_type": "stream",
          "name": "stdout",
          "text": [
            "False\n"
          ]
        }
      ]
    },
    {
      "cell_type": "markdown",
      "metadata": {
        "id": "z2B_Lk2_FWYf"
      },
      "source": [
        "Letter g"
      ]
    },
    {
      "cell_type": "code",
      "metadata": {
        "colab": {
          "base_uri": "https://localhost:8080/"
        },
        "id": "Y4t8DoKPFXt8",
        "outputId": "a1f6b463-c9dd-4abc-ca58-f0291da2f52c"
      },
      "source": [
        "m=(answ==\"y\")\n",
        "print(not(m))"
      ],
      "execution_count": 67,
      "outputs": [
        {
          "output_type": "stream",
          "name": "stdout",
          "text": [
            "True\n"
          ]
        }
      ]
    },
    {
      "cell_type": "markdown",
      "metadata": {
        "id": "yTiMOFxjFtN1"
      },
      "source": [
        "Letter h"
      ]
    },
    {
      "cell_type": "code",
      "metadata": {
        "colab": {
          "base_uri": "https://localhost:8080/"
        },
        "id": "Zf91TBaaFupS",
        "outputId": "ae623ea8-fb28-4f0b-dc48-aaf217755b6d"
      },
      "source": [
        "j=(n==2)\n",
        "k=(n==5+1)\n",
        "l=(answ==\"No\")\n",
        "print((j and k))or l"
      ],
      "execution_count": 71,
      "outputs": [
        {
          "output_type": "stream",
          "name": "stdout",
          "text": [
            "False\n"
          ]
        },
        {
          "output_type": "execute_result",
          "data": {
            "text/plain": [
              "False"
            ]
          },
          "metadata": {},
          "execution_count": 71
        }
      ]
    },
    {
      "cell_type": "markdown",
      "metadata": {
        "id": "9P-5sLkeGQQv"
      },
      "source": [
        "Letter i"
      ]
    },
    {
      "cell_type": "code",
      "metadata": {
        "colab": {
          "base_uri": "https://localhost:8080/"
        },
        "id": "ItNlh1sHGSHC",
        "outputId": "a9ef34ed-9bd0-494c-ee7b-f080c5d0760b"
      },
      "source": [
        "a=(n==2)\n",
        "b=(n==7)\n",
        "c=(answ==\"Y\")\n",
        "print((a and b))or c"
      ],
      "execution_count": 72,
      "outputs": [
        {
          "output_type": "stream",
          "name": "stdout",
          "text": [
            "False\n"
          ]
        },
        {
          "output_type": "execute_result",
          "data": {
            "text/plain": [
              "True"
            ]
          },
          "metadata": {},
          "execution_count": 72
        }
      ]
    },
    {
      "cell_type": "markdown",
      "metadata": {
        "id": "nqoLQ_WJGkmq"
      },
      "source": [
        "Letter j"
      ]
    },
    {
      "cell_type": "code",
      "metadata": {
        "colab": {
          "base_uri": "https://localhost:8080/"
        },
        "id": "pyfFqYeZGn3Z",
        "outputId": "28646c9e-1a17-4aa5-db7a-1df115638fdd"
      },
      "source": [
        "d=(n==2)\n",
        "e=(n==7)\n",
        "f=(answ==\"Y\")\n",
        "print(d and(e or f))"
      ],
      "execution_count": 74,
      "outputs": [
        {
          "output_type": "stream",
          "name": "stdout",
          "text": [
            "False\n"
          ]
        }
      ]
    },
    {
      "cell_type": "markdown",
      "metadata": {
        "id": "VO6egz_i9fbz"
      },
      "source": [
        "#PROBLEM STATEMENT 3"
      ]
    },
    {
      "cell_type": "code",
      "metadata": {
        "colab": {
          "base_uri": "https://localhost:8080/"
        },
        "id": "XL3JqX7E9j_F",
        "outputId": "8880647d-f88f-4c6b-ed47-107554080cb5"
      },
      "source": [
        "x=2\n",
        "y=-3\n",
        "w=7\n",
        "z=-10\n",
        "a=x/y\n",
        "b=w/y/x\n",
        "c=z/y%x\n",
        "d=x%-y*w\n",
        "e=x%y\n",
        "f=z%w-y/x*5+5\n",
        "g=9-x%(2+y)\n",
        "h=z//w\n",
        "i=(2+y)**2\n",
        "j=w/x*2\n",
        "print(a)\n",
        "print(b)\n",
        "print(c)\n",
        "print(d)\n",
        "print(e)\n",
        "print(f)\n",
        "print(g)\n",
        "print(h)\n",
        "print(i)\n",
        "print(j)\n"
      ],
      "execution_count": 21,
      "outputs": [
        {
          "output_type": "stream",
          "name": "stdout",
          "text": [
            "-0.6666666666666666\n",
            "-1.1666666666666667\n",
            "1.3333333333333335\n",
            "14\n",
            "-1\n",
            "16.5\n",
            "9\n",
            "-2\n",
            "1\n",
            "7.0\n"
          ]
        }
      ]
    }
  ]
}