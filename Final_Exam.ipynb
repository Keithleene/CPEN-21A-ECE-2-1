{
  "nbformat": 4,
  "nbformat_minor": 0,
  "metadata": {
    "colab": {
      "name": "Final Exam.ipynb",
      "provenance": [],
      "collapsed_sections": [],
      "authorship_tag": "ABX9TyPElVIwCoWie9KuOqIu6cgK",
      "include_colab_link": true
    },
    "kernelspec": {
      "name": "python3",
      "display_name": "Python 3"
    },
    "language_info": {
      "name": "python"
    }
  },
  "cells": [
    {
      "cell_type": "markdown",
      "metadata": {
        "id": "view-in-github",
        "colab_type": "text"
      },
      "source": [
        "<a href=\"https://colab.research.google.com/github/Keithleene/CPEN-21A-ECE-2-1/blob/main/Final_Exam.ipynb\" target=\"_parent\"><img src=\"https://colab.research.google.com/assets/colab-badge.svg\" alt=\"Open In Colab\"/></a>"
      ]
    },
    {
      "cell_type": "markdown",
      "source": [
        "##PROBLEM STATEMENT 1."
      ],
      "metadata": {
        "id": "VrxVAJoMQ4Ub"
      }
    },
    {
      "cell_type": "code",
      "source": [
        "lst = []\n",
        "num = 0\n",
        "for num in range (0,10):\n",
        "  temp=int(input(\"Enter a number:\"))\n",
        "  lst.append(temp)\n",
        "\n",
        "num = 0\n",
        "summation = 0\n",
        "print(lst)\n",
        "for num in lst:\n",
        "  if num<5:\n",
        "    summation = summation+num\n",
        "print(\"The sum of numbers that are less than 5 is:\",summation)"
      ],
      "metadata": {
        "colab": {
          "base_uri": "https://localhost:8080/"
        },
        "id": "o78P_jSGQ753",
        "outputId": "71fa21f0-9e18-4436-925b-b2f6f4b919d1"
      },
      "execution_count": null,
      "outputs": [
        {
          "output_type": "stream",
          "name": "stdout",
          "text": [
            "Enter a number:1\n",
            "Enter a number:2\n",
            "Enter a number:3\n",
            "Enter a number:4\n",
            "Enter a number:5\n",
            "Enter a number:6\n",
            "Enter a number:7\n",
            "Enter a number:8\n",
            "Enter a number:9\n",
            "Enter a number:10\n",
            "[1, 2, 3, 4, 5, 6, 7, 8, 9, 10]\n",
            "The sum of numbers that are less than 5 is: 10\n"
          ]
        }
      ]
    },
    {
      "cell_type": "markdown",
      "source": [
        "##PROBLEM STATEMENT 2."
      ],
      "metadata": {
        "id": "AhWUJHsJQiWO"
      }
    },
    {
      "cell_type": "code",
      "source": [
        "num = 1;\n",
        "data = {};\n",
        "last = 5;\n",
        "first = 1;\n",
        "while(num <=last):\n",
        "  c = str(num);\n",
        "  data[num] = input(\"Enter a number:\")\n",
        "  print(\"The value for number \"+c+\" is \"+data[num])\n",
        "  num+=1\n",
        "sum= int(data[first]) + int(data[last])\n",
        "print(\"The sum of the first and last number is:\" + str(sum))"
      ],
      "metadata": {
        "colab": {
          "base_uri": "https://localhost:8080/"
        },
        "id": "cVAu9ZiWB48f",
        "outputId": "b7b1ca64-4d56-427a-da1d-28167bbbe509"
      },
      "execution_count": null,
      "outputs": [
        {
          "output_type": "stream",
          "name": "stdout",
          "text": [
            "Enter a number:12\n",
            "The value for number 1 is 12\n",
            "Enter a number:13\n",
            "The value for number 2 is 13\n",
            "Enter a number:14\n",
            "The value for number 3 is 14\n",
            "Enter a number:15\n",
            "The value for number 4 is 15\n",
            "Enter a number:16\n",
            "The value for number 5 is 16\n",
            "The sum of the first and last number is:28\n"
          ]
        }
      ]
    },
    {
      "cell_type": "markdown",
      "source": [
        "##PROBLEM STATEMENT 3."
      ],
      "metadata": {
        "id": "5u7PQm9Uzq3O"
      }
    },
    {
      "cell_type": "code",
      "source": [
        "Grade = float(input(\"Enter your grade:\"))\n",
        "if 90<=Grade<=100:\n",
        "  print(\"A\")\n",
        "elif 80<=Grade<=89:\n",
        "  print(\"B\")\n",
        "elif 70<=Grade<=79:\n",
        "   print(\"C\")\n",
        "elif 60<=Grade<=69:\n",
        "  print(\"D\")\n",
        "elif 0<=Grade<60:\n",
        "  print(\"F\")\n",
        "else:\n",
        "  print(\"Input character is incorrect\")"
      ],
      "metadata": {
        "colab": {
          "base_uri": "https://localhost:8080/"
        },
        "id": "yDomlw5s5qi-",
        "outputId": "bf0c2aa5-d286-4da2-ec08-5bf95ce6c9a1"
      },
      "execution_count": 1,
      "outputs": [
        {
          "output_type": "stream",
          "name": "stdout",
          "text": [
            "Enter your grade:87\n",
            "B\n"
          ]
        }
      ]
    }
  ]
}