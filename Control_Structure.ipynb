{
  "nbformat": 4,
  "nbformat_minor": 0,
  "metadata": {
    "colab": {
      "name": "Control Structure.ipynb",
      "provenance": [],
      "authorship_tag": "ABX9TyNsDZEhXBCD8IxzvLvCtVpk",
      "include_colab_link": true
    },
    "kernelspec": {
      "name": "python3",
      "display_name": "Python 3"
    },
    "language_info": {
      "name": "python"
    }
  },
  "cells": [
    {
      "cell_type": "markdown",
      "metadata": {
        "id": "view-in-github",
        "colab_type": "text"
      },
      "source": [
        "<a href=\"https://colab.research.google.com/github/Keithleene/CPEN-21A-ECE-2-1/blob/main/Control_Structure.ipynb\" target=\"_parent\"><img src=\"https://colab.research.google.com/assets/colab-badge.svg\" alt=\"Open In Colab\"/></a>"
      ]
    },
    {
      "cell_type": "markdown",
      "metadata": {
        "id": "AP9lbO_PGKJ7"
      },
      "source": [
        "##If Statement"
      ]
    },
    {
      "cell_type": "code",
      "metadata": {
        "colab": {
          "base_uri": "https://localhost:8080/"
        },
        "id": "yM9LKQoHGNwX",
        "outputId": "21dc0e42-ac2b-4967-916d-6b79e2054f19"
      },
      "source": [
        "a=12\n",
        "b=100\n",
        "if b>a:\n",
        " print(\"b is greater than a\")"
      ],
      "execution_count": 2,
      "outputs": [
        {
          "output_type": "stream",
          "name": "stdout",
          "text": [
            "b is greater than a\n"
          ]
        }
      ]
    },
    {
      "cell_type": "markdown",
      "metadata": {
        "id": "8oNBruIiGsif"
      },
      "source": [
        "##Elif Statement"
      ]
    },
    {
      "cell_type": "code",
      "metadata": {
        "colab": {
          "base_uri": "https://localhost:8080/"
        },
        "id": "HwMPT_CQGwFA",
        "outputId": "7ab70d4c-bf79-4e0d-ab9b-3cb53561acae"
      },
      "source": [
        "a=12\n",
        "b=13\n",
        "\n",
        "if b>a:\n",
        "  print(\"b is greater than a\")\n",
        "elif b==a:\n",
        "   print(\"b is equal to a\")"
      ],
      "execution_count": 23,
      "outputs": [
        {
          "output_type": "stream",
          "name": "stdout",
          "text": [
            "b is greater than a\n"
          ]
        }
      ]
    },
    {
      "cell_type": "markdown",
      "metadata": {
        "id": "X1wVUN-WHAeH"
      },
      "source": [
        "##Else Statement"
      ]
    },
    {
      "cell_type": "code",
      "metadata": {
        "colab": {
          "base_uri": "https://localhost:8080/"
        },
        "id": "HmRXvknqHFBF",
        "outputId": "9b3c0445-1594-4412-e353-7c618e67c0b7"
      },
      "source": [
        "a=30\n",
        "b=30\n",
        "if a>b:\n",
        "  print(\"a is greater than b\")\n",
        "elif b>a:\n",
        "   print(\"b is greater than a\")\n",
        "else:\n",
        "  print(\"a is equal to b\")"
      ],
      "execution_count": 24,
      "outputs": [
        {
          "output_type": "stream",
          "name": "stdout",
          "text": [
            "a is equal to b\n"
          ]
        }
      ]
    },
    {
      "cell_type": "markdown",
      "metadata": {
        "id": "e8A7IkdxHuY9"
      },
      "source": [
        "##Short Hand If Statement"
      ]
    },
    {
      "cell_type": "code",
      "metadata": {
        "colab": {
          "base_uri": "https://localhost:8080/"
        },
        "id": "fcJgmz0KHwZ1",
        "outputId": "914e39d7-b384-41c3-b21a-32119c1b5c1d"
      },
      "source": [
        "a= 12\n",
        "b=6\n",
        "if a>b: print(\"a is greater than b\")"
      ],
      "execution_count": 5,
      "outputs": [
        {
          "output_type": "stream",
          "name": "stdout",
          "text": [
            "a is greater than b\n"
          ]
        }
      ]
    },
    {
      "cell_type": "markdown",
      "metadata": {
        "id": "X2SKxVGTIFYN"
      },
      "source": [
        "##Short Hand If... Else Statement"
      ]
    },
    {
      "cell_type": "code",
      "metadata": {
        "colab": {
          "base_uri": "https://localhost:8080/"
        },
        "id": "-soIcPheIG_K",
        "outputId": "7ea435d6-3a73-496f-8c77-49053e97066f"
      },
      "source": [
        "a=7\n",
        "b=14\n",
        "print(\"a is greater than b\") if a>b else print(\"b is greater than a\")"
      ],
      "execution_count": 7,
      "outputs": [
        {
          "output_type": "stream",
          "name": "stdout",
          "text": [
            "b is greater than a\n"
          ]
        }
      ]
    },
    {
      "cell_type": "markdown",
      "metadata": {
        "id": "rKpPVsCfISkp"
      },
      "source": [
        "And logical condition"
      ]
    },
    {
      "cell_type": "code",
      "metadata": {
        "colab": {
          "base_uri": "https://localhost:8080/"
        },
        "id": "CV2ytj1qITdP",
        "outputId": "393cbc88-d549-479d-d87e-35f3de2cd79d"
      },
      "source": [
        "a=200\n",
        "b=300\n",
        "c=500\n",
        "\n",
        "if a>b and c>a:\n",
        "  print(\"Both conditional are True\")\n",
        "else:\n",
        "    print(\"Evaluated as False\")"
      ],
      "execution_count": 8,
      "outputs": [
        {
          "output_type": "stream",
          "name": "stdout",
          "text": [
            "Evaluated as False\n"
          ]
        }
      ]
    },
    {
      "cell_type": "markdown",
      "metadata": {
        "id": "DPdMRXuuIgYZ"
      },
      "source": [
        "Or logical condition"
      ]
    },
    {
      "cell_type": "code",
      "metadata": {
        "colab": {
          "base_uri": "https://localhost:8080/"
        },
        "id": "j8wf1_aHIhNP",
        "outputId": "6326c6aa-66bb-4b4e-d9b8-4163c131c963"
      },
      "source": [
        "a=200\n",
        "b=300\n",
        "c=500\n",
        "\n",
        "if a>b or c>a:\n",
        "  print(\"Evaluated as True\")\n",
        "else:\n",
        "    print(\"Evaluated as False\")"
      ],
      "execution_count": 9,
      "outputs": [
        {
          "output_type": "stream",
          "name": "stdout",
          "text": [
            "Evaluated as True\n"
          ]
        }
      ]
    },
    {
      "cell_type": "markdown",
      "metadata": {
        "id": "wCKzBL5wIz_x"
      },
      "source": [
        "##Nested If.. Else Statement"
      ]
    },
    {
      "cell_type": "code",
      "metadata": {
        "colab": {
          "base_uri": "https://localhost:8080/"
        },
        "id": "O6jQNq__I1Zy",
        "outputId": "5d837f19-3e98-4647-fe93-991879a34537"
      },
      "source": [
        "x= 20\n",
        "\n",
        "if x>10:\n",
        "  print(\"Above ten\")\n",
        "  if x>20:\n",
        "    print(\"Above twenty\")\n",
        "  else:\n",
        "      print(\"Above ten but Not above twenty\")\n",
        "else:\n",
        "  print(\"Not above ten\")"
      ],
      "execution_count": 10,
      "outputs": [
        {
          "output_type": "stream",
          "name": "stdout",
          "text": [
            "Above ten\n",
            "Above ten but Not above twenty\n"
          ]
        }
      ]
    },
    {
      "cell_type": "markdown",
      "metadata": {
        "id": "SCN1pkzZJANL"
      },
      "source": [
        "Example 1"
      ]
    },
    {
      "cell_type": "code",
      "metadata": {
        "colab": {
          "base_uri": "https://localhost:8080/"
        },
        "id": "B7bsJlMNK0St",
        "outputId": "6354fd46-ef9e-4c1d-f3da-03ab966e36d9"
      },
      "source": [
        "# The qualfying age to vote\n",
        "age=int(input(\"Enter your age:\"))\n",
        "\n",
        "if age>=18:\n",
        "  print(\"You are qualified to vote\")\n",
        "else:\n",
        "  print(\"You are not qualified to vote\")"
      ],
      "execution_count": 17,
      "outputs": [
        {
          "output_type": "stream",
          "name": "stdout",
          "text": [
            "Enter your age:15\n",
            "You are not qualified to vote\n"
          ]
        }
      ]
    },
    {
      "cell_type": "markdown",
      "metadata": {
        "id": "JBZny9qsJwo7"
      },
      "source": [
        "Example 2"
      ]
    },
    {
      "cell_type": "code",
      "metadata": {
        "colab": {
          "base_uri": "https://localhost:8080/"
        },
        "id": "fsoYytJwK8d6",
        "outputId": "1221ffce-5b60-4fc4-ce2c-0e4dc074c240"
      },
      "source": [
        "num = int(input(\"Enter the number:\"))\n",
        "if num==0:\n",
        "  print(\"Zero\")\n",
        "elif num>0:\n",
        "  print(\"Positive\")\n",
        "else:\n",
        "  print(\"Negative\")"
      ],
      "execution_count": 27,
      "outputs": [
        {
          "output_type": "stream",
          "name": "stdout",
          "text": [
            "Enter the number:-17\n",
            "Negative\n"
          ]
        }
      ]
    },
    {
      "cell_type": "markdown",
      "metadata": {
        "id": "M6oBmaPxLvoH"
      },
      "source": [
        "Example 3"
      ]
    },
    {
      "cell_type": "code",
      "metadata": {
        "colab": {
          "base_uri": "https://localhost:8080/"
        },
        "id": "1-g1_rRhLxaG",
        "outputId": "74b56349-bb0f-4018-9b61-75eb7ea843fe"
      },
      "source": [
        "grade= float(input(\"Enter your grade:\"))\n",
        "if grade>=75:\n",
        "  print(\"Passed\")\n",
        "elif grade==74:\n",
        "  print(\"Remedial\")\n",
        "else:\n",
        "  print(\"Failed\")"
      ],
      "execution_count": 28,
      "outputs": [
        {
          "output_type": "stream",
          "name": "stdout",
          "text": [
            "Enter your grade:89\n",
            "Passed\n"
          ]
        }
      ]
    }
  ]
}